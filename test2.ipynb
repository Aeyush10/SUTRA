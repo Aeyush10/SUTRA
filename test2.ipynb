{
 "cells": [
  {
   "cell_type": "code",
   "execution_count": 85,
   "metadata": {},
   "outputs": [],
   "source": [
    "#Importing all needed libraries\n",
    "import pandas as pd\n",
    "import numpy as np\n",
    "import sklearn\n",
    "from scipy.optimize import minimize\n",
    "import math "
   ]
  },
  {
   "cell_type": "code",
   "execution_count": null,
   "metadata": {},
   "outputs": [],
   "source": [
    "#Converting sheet with all country data to dataframe\n",
    "time_series_countries = pd.read_excel('time-series-countries.xlsx').iloc[:, [0,1,2]]\n",
    "print(time_series_countries)"
   ]
  },
  {
   "cell_type": "code",
   "execution_count": null,
   "metadata": {},
   "outputs": [],
   "source": [
    "#Generate list of countries\n",
    "country_list = time_series_countries['location'].to_list()\n",
    "country_list = list(set(country_list)) \n",
    "print(country_list)"
   ]
  },
  {
   "cell_type": "code",
   "execution_count": null,
   "metadata": {},
   "outputs": [],
   "source": [
    "#Select country name using user input\n",
    "country = input(\"Enter name of country: \")\n",
    "print(country)\n",
    "if country not in country_list:\n",
    "    print(\"Invalid Input\")\n",
    "    exit()\n",
    "P0 = input(\"Enter the population of the chosen country: \")\n",
    "initinve = input(\"Enter the initial value of 1/e period of of the chosen country: \")\n"
   ]
  },
  {
   "cell_type": "code",
   "execution_count": 53,
   "metadata": {},
   "outputs": [],
   "source": [
    "#Generate new dataframe with country-specific data\n",
    "country_data = time_series_countries.loc[time_series_countries['location'] == country]\n",
    "C = country_data['total_cases'].to_list()\n",
    "date_list = country_data['date'].to_list()\n",
    "#print(country_data)\n",
    "#print(date_list)"
   ]
  },
  {
   "cell_type": "code",
   "execution_count": null,
   "metadata": {},
   "outputs": [],
   "source": [
    "#Generate data lists for country\n",
    "def avgdata(a):\n",
    "    avga = [a[0]]\n",
    "    for i in range(1,7):\n",
    "        avga.append((avga[i - 1]*i + a[i])/(i + 1))\n",
    "    temp = avga[6]*7\n",
    "    for i in range(7,len(a)):\n",
    "        temp = temp + a[i] - a[i - 7]\n",
    "        avga.append(temp/7)\n",
    "    return avga\n",
    "y = 0.1\n",
    "Rt = [0]\n",
    "for i in range(1,len(C)):\n",
    "    Rt.append(round((1 - y)*Rt[i - 1] + y*C[i - 1] + 0.01))\n",
    "#print(C)\n",
    "#print(Rt)\n",
    "T = []\n",
    "for i in range(len(C)):\n",
    "    T.append(C[i] - Rt[i])\n",
    "#print(T)\n",
    "AvC = avgdata(C)\n",
    "AvRt = avgdata(Rt)\n",
    "AvT = avgdata(T)\n",
    "#print(AvT)\n",
    "#print(AvRt)\n",
    "DelC = []\n",
    "for i in range(7):\n",
    "    DelC.append(AvC[i])\n",
    "for i in range(7,len(C)):\n",
    "    DelC.append(AvC[i] - AvC[i - 7])\n",
    "IntT = [AvT[0]]\n",
    "for i in range(1,7):\n",
    "    IntT.append(IntT[i - 1] + AvT[i])\n",
    "for i in range(7,len(AvT)):\n",
    "    IntT.append(IntT[i - 1] + AvT[i] - AvT[i - 7])\n",
    "#print(IntT)\n",
    "IntTC = [AvT[0]*AvC[0]]\n",
    "for i in range(1,7):\n",
    "    IntTC.append(IntTC[i - 1] + AvT[i]*AvC[i])\n",
    "for i in range(7,len(AvT)):\n",
    "    IntTC.append(IntTC[i - 1] +  AvT[i]*AvC[i] - AvT[i - 7]*AvC[i-7])\n",
    "#print(IntTC)\n",
    "#print(len(C),len(Rt),len(T),len(AvRt),len(AvC),len(DelC),len(IntT),len(IntTC))\n"
   ]
  },
  {
   "cell_type": "code",
   "execution_count": 51,
   "metadata": {},
   "outputs": [],
   "source": [
    "#Take phase inputs\n",
    "startd = input(\"Enter the start date of the phase (YYYY-MM-DD format): \")\n",
    "endd = input(\"Enter the end date of the phase (YYYY-MM-DD format): \")\n",
    "drift = input(\"Enter the drift period of the phase: \")\n",
    "skip = input(\"Enter the skip period of the phase: \")\n",
    "skip = int(skip)\n",
    "drift = int(drift)\n",
    "if startd in date_list:\n",
    "    startd = date_list.index(startd)\n",
    "else:\n",
    "    print(\"Wrong start date input\")\n",
    "if endd in date_list:\n",
    "    endd = date_list.index(endd)\n",
    "else:\n",
    "    print(\"Wrong end date input\")"
   ]
  },
  {
   "cell_type": "code",
   "execution_count": 99,
   "metadata": {},
   "outputs": [
    {
     "name": "stdout",
     "output_type": "stream",
     "text": [
      "3.151273110695222 486.05566106304974\n"
     ]
    }
   ],
   "source": [
    "#Regression\n",
    "skip = int(skip)\n",
    "drift = int(drift)\n",
    "u = np.array(IntT[startd + drift + skip: endd])\n",
    "v = np.array(DelC[startd + drift + skip + 1 : endd + 1])\n",
    "w = np.array(IntTC[startd + drift + skip: endd])\n",
    "w = w/P0\n",
    "#print(u,v,w)\n",
    "\n",
    "#type \"S\"\n",
    "vw_df = pd.DataFrame({'v':v,'w':w})\n",
    "LR = sklearn.linear_model.LinearRegression(fit_intercept=False)\n",
    "LR.fit(vw_df,u)\n",
    "invbtS = LR.coef_[0]\n",
    "invptS = LR.coef_[1]\n",
    "r2_S = LR.score(vw_df,u)\n",
    "#print(invbtS,invptS,r2_S)\n",
    "delt = np.dot(v,v)*np.dot(w,w) - np.dot(v,w)*np.dot(v,w)\n",
    "delt = abs(delt)\n",
    "var = (np.dot(u,u) - invbtS*np.dot(u,v) - invptS*np.dot(u,w))/(endd - startd - drift - skip - 2)\n",
    "var = abs(var)\n",
    "stdbtS = math.sqrt(np.dot(w,w)*var/delt)\n",
    "stdptS = math.sqrt(np.dot(v,v)*var/delt)\n",
    "errS = np.dot(u - invbtS*v - invptS*w,u - invbtS*v - invptS*w)/np.dot(u,u)\n",
    "#print(errS)\n",
    "toterrS = stdbtS/invbtS + stdptS/invptS + 10*errS\n",
    "#print(toterrS)\n",
    "\n",
    "#type \"A\"\n",
    "def funA(args):\n",
    "    x = args[0]\n",
    "    y = args[1]\n",
    "    return (np.linalg.norm(u - x*v - y*w)*np.linalg.norm(u - x*v - y*w))/(np.linalg.norm(u - x*v)*np.linalg.norm(u- y*w))\n",
    "regA = minimize(funA,[1,1])\n",
    "if regA.success == 0: \n",
    "    invbt, invpt = invbtS, invptS\n",
    "else:\n",
    "    x, y = regA.x\n",
    "    varbt = np.dot(u,u) + np.dot(w,w)/(y*y) - 2*np.dot(u,w)/y - pow(np.dot(u,v) - np.dot(v,w)/y,2)/np.dot(v,v)\n",
    "    varbt = varbt/endd - startd - drift - skip - 1\n",
    "    varpt = np.dot(u,u) + np.dot(v,v)/(x*x) - 2*np.dot(u,v)/x - pow(np.dot(u,w) - np.dot(v,w)/x,2)/np.dot(w,w)\n",
    "    varpt = varpt/endd - startd - drift - skip - 1\n",
    "    stdbtA = math.sqrt(varbt/np.dot(v,v))\n",
    "    stdptA = math.sqrt(varpt/np.dot(w,w))\n",
    "    errbt = np.dot(u - x*v - y*w,u - x*v - y*w)/np.dot(u - y*w,u - y*w)\n",
    "    errpt = np.dot(u - x*v - y*w,u - x*v - y*w)/np.dot(u - x*v,u - x*v)\n",
    "    #calculate error in A\n",
    "    toterrA = stdbtA/x + stdptA/y + errbt + errpt\n",
    "    #print(x,y,toterrA)\n",
    "    if (invbtS > 10 or invbtS < 1 or invptS < 0 or toterrA < toterrS):\n",
    "        invbt, invpt = x,y\n",
    "    else:\n",
    "        invbt, invpt = invbtS, invptS\n",
    "\n",
    "#Final result\n",
    "print(invbt,invpt)"
   ]
  },
  {
   "cell_type": "code",
   "execution_count": null,
   "metadata": {},
   "outputs": [],
   "source": [
    "#Predicted trajectory"
   ]
  },
  {
   "cell_type": "code",
   "execution_count": null,
   "metadata": {},
   "outputs": [],
   "source": []
  }
 ],
 "metadata": {
  "kernelspec": {
   "display_name": "Python 3.9.13 64-bit",
   "language": "python",
   "name": "python3"
  },
  "language_info": {
   "codemirror_mode": {
    "name": "ipython",
    "version": 3
   },
   "file_extension": ".py",
   "mimetype": "text/x-python",
   "name": "python",
   "nbconvert_exporter": "python",
   "pygments_lexer": "ipython3",
   "version": "3.9.13"
  },
  "orig_nbformat": 4,
  "vscode": {
   "interpreter": {
    "hash": "ac2eaa0ea0ebeafcc7822e65e46aa9d4f966f30b695406963e145ea4a91cd4fc"
   }
  }
 },
 "nbformat": 4,
 "nbformat_minor": 2
}
